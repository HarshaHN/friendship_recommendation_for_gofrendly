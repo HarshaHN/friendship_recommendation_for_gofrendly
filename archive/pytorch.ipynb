{
 "nbformat": 4,
 "nbformat_minor": 2,
 "metadata": {
  "language_info": {
   "name": "python",
   "codemirror_mode": {
    "name": "ipython",
    "version": 3
   },
   "version": "3.7.6-final"
  },
  "orig_nbformat": 2,
  "file_extension": ".py",
  "mimetype": "text/x-python",
  "name": "python",
  "npconvert_exporter": "python",
  "pygments_lexer": "ipython3",
  "version": 3,
  "kernelspec": {
   "name": "python37664bitmlconda209fa0afdc364b35a85a732cd0ce9058",
   "display_name": "Python 3.7.6 64-bit ('ml': conda)"
  }
 },
 "cells": [
  {
   "cell_type": "code",
   "execution_count": 1,
   "metadata": {},
   "outputs": [
    {
     "output_type": "stream",
     "name": "stdout",
     "text": "World is Awesome!\n"
    }
   ],
   "source": [
    "print('World is Awesome!')"
   ]
  },
  {
   "source": [
    "import torch.nn as nn\n",
    "import torch.nn.functional as F\n",
    "import warm\n",
    "import warm.functional as W\n",
    "\n",
    "\n",
    "class ConvNet(nn.Module):\n",
    "\n",
    "    def __init__(self):\n",
    "        super().__init__()\n",
    "        warm.up(self, [2, 1, 28, 28])\n",
    "\n",
    "    def forward(self, x):\n",
    "        x = W.conv(x, 20, 5, activation='relu')\n",
    "        x = F.max_pool2d(x, 2)\n",
    "        x = W.conv(x, 50, 5, activation='relu')\n",
    "        x = F.max_pool2d(x, 2)\n",
    "        x = x.view(-1, 800)\n",
    "        x = W.linear(x, 500, activation='relu')\n",
    "        x = W.linear(x, 10)\n",
    "        return F.log_softmax(x, dim=1)"
   ],
   "cell_type": "code",
   "outputs": [],
   "metadata": {},
   "execution_count": 1
  },
  {
   "source": [
    "import torch\n",
    "torch.cuda.is_available()"
   ],
   "cell_type": "code",
   "outputs": [
    {
     "output_type": "execute_result",
     "data": {
      "text/plain": "False"
     },
     "metadata": {},
     "execution_count": 1
    }
   ],
   "metadata": {},
   "execution_count": 1
  }
 ]
}